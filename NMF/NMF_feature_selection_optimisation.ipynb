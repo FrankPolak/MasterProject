{
 "cells": [
  {
   "cell_type": "code",
   "execution_count": 1,
   "metadata": {},
   "outputs": [],
   "source": [
    "import numpy as np\n",
    "import pandas as pd"
   ]
  },
  {
   "cell_type": "code",
   "execution_count": 2,
   "metadata": {},
   "outputs": [
    {
     "data": {
      "text/plain": [
       "(1000, 20501)"
      ]
     },
     "execution_count": 2,
     "metadata": {},
     "output_type": "execute_result"
    }
   ],
   "source": [
    "hs = np.load('hs.npy')\n",
    "hs.shape"
   ]
  },
  {
   "cell_type": "code",
   "execution_count": 3,
   "metadata": {},
   "outputs": [
    {
     "name": "stdout",
     "output_type": "stream",
     "text": [
      "List of top contributing features:\n",
      "[0, 1, 2, 3, 4, 5, 6, 7, 8, 9, 10, 11, 12, 13, 14, 15, 16, 17, 18, 19, 20, 21, 22, 23, 24, 25, 26, 27, 28, 29, 30, 31, 32, 33, 34, 35, 36, 37, 38, 39, 40, 41, 42, ...]\n"
     ]
    }
   ],
   "source": [
    "hs = pd.DataFrame(hs).abs()  \n",
    "\n",
    "selected_features = {}\n",
    "components = []\n",
    "f_per_component = 2 \n",
    "\n",
    "for n in range(f_per_component):\n",
    "    hs = hs.loc[:, hs.max().sort_values(ascending=False).index]\n",
    "    \n",
    "    for col in hs.columns:\n",
    "        components.append(col)\n",
    "        component = hs[col]\n",
    "        if not hs.empty and component.max() > 0: \n",
    "            feature = component.idxmax()\n",
    "            selected_features[feature] = component.max()\n",
    "            hs = hs.drop(labels=feature, axis=0)\n",
    "\n",
    "components = sorted(set(components))\n",
    "\n",
    "print(\"List of top contributing features:\")\n",
    "print(components)\n"
   ]
  },
  {
   "cell_type": "code",
   "execution_count": 4,
   "metadata": {},
   "outputs": [
    {
     "data": {
      "text/plain": [
       "20501"
      ]
     },
     "execution_count": 4,
     "metadata": {},
     "output_type": "execute_result"
    }
   ],
   "source": [
    "len(components)"
   ]
  }
 ],
 "metadata": {
  "kernelspec": {
   "display_name": "Python 3.6 (tabula-muris-env)",
   "language": "python",
   "name": "tabula-muris-env"
  },
  "language_info": {
   "codemirror_mode": {
    "name": "ipython",
    "version": 3
   },
   "file_extension": ".py",
   "mimetype": "text/x-python",
   "name": "python",
   "nbconvert_exporter": "python",
   "pygments_lexer": "ipython3",
   "version": "3.11.5"
  }
 },
 "nbformat": 4,
 "nbformat_minor": 2
}
