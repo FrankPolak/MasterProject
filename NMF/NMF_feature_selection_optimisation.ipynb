{
 "cells": [
  {
   "cell_type": "code",
   "execution_count": 1,
   "metadata": {},
   "outputs": [],
   "source": [
    "import numpy as np\n",
    "import pandas as pd"
   ]
  },
  {
   "cell_type": "code",
   "execution_count": 2,
   "metadata": {},
   "outputs": [
    {
     "data": {
      "text/plain": [
       "(1000, 20501)"
      ]
     },
     "execution_count": 2,
     "metadata": {},
     "output_type": "execute_result"
    }
   ],
   "source": [
    "hs = np.load('hs.npy')\n",
    "hs.shape"
   ]
  },
  {
   "cell_type": "code",
   "execution_count": 3,
   "metadata": {},
   "outputs": [
    {
     "name": "stdout",
     "output_type": "stream",
     "text": [
      "List of top contributing features:\n",
      "[1, 8, 13, 44, 45, 47, 64, 104, 134, 139, 151, 156, 161, 190, 210, 213, 216, 225, 234, 237, 238, 247, 253, 254, 256, 258, 272, 293, 310, 313, 334, 351, 365, 370, 375, 377, 380, 393, 406, 416, 434, ..., 20477]\n"
     ]
    }
   ],
   "source": [
    "hs = np.load('hs.npy')\n",
    "hs = pd.DataFrame(hs).abs()  \n",
    "hs = hs.T # transpose the matrix so that the components are columns\n",
    "\n",
    "selected_features = {}\n",
    "components = []\n",
    "f_per_component = 2\n",
    "\n",
    "for n in range(f_per_component):\n",
    "    hs = hs.loc[:, hs.max().sort_values(ascending=False).index]\n",
    "    \n",
    "    for col in hs.columns:\n",
    "        components.append(col)\n",
    "        component = hs[col]\n",
    "        if not hs.empty and component.max() > 0.005: \n",
    "            feature = component.idxmax()\n",
    "            selected_features[feature] = component.max()\n",
    "            hs = hs.drop(index=feature, axis=0)\n",
    "\n",
    "components = sorted(components)\n",
    "\n",
    "print(\"List of top contributing features:\")\n",
    "print(sorted(selected_features.keys()))\n"
   ]
  },
  {
   "cell_type": "code",
   "execution_count": 4,
   "metadata": {},
   "outputs": [
    {
     "data": {
      "text/plain": [
       "2000"
      ]
     },
     "execution_count": 4,
     "metadata": {},
     "output_type": "execute_result"
    }
   ],
   "source": [
    "len(selected_features.keys())"
   ]
  }
 ],
 "metadata": {
  "kernelspec": {
   "display_name": "Python 3.6 (tabula-muris-env)",
   "language": "python",
   "name": "tabula-muris-env"
  },
  "language_info": {
   "codemirror_mode": {
    "name": "ipython",
    "version": 3
   },
   "file_extension": ".py",
   "mimetype": "text/x-python",
   "name": "python",
   "nbconvert_exporter": "python",
   "pygments_lexer": "ipython3",
   "version": "3.11.5"
  }
 },
 "nbformat": 4,
 "nbformat_minor": 2
}
