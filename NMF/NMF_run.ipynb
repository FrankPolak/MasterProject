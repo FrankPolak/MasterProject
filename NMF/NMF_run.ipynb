{
 "cells": [
  {
   "cell_type": "code",
   "execution_count": 1,
   "metadata": {},
   "outputs": [],
   "source": [
    "import numpy as np\n",
    "import pandas as pd\n",
    "from sklearn.decomposition import NMF\n",
    "from sklearn.preprocessing import MinMaxScaler\n",
    "from sklearn.metrics import mean_squared_error"
   ]
  },
  {
   "cell_type": "code",
   "execution_count": 2,
   "metadata": {},
   "outputs": [],
   "source": [
    "# Import matrix from csv file\n",
    "df = pd.read_csv('cancer_data_BRCA_RNASeq2GeneNorm-20160128.csv', index_col=0)\n",
    "df = df.T\n",
    "scaler = MinMaxScaler()\n",
    "df_norm = scaler.fit_transform(df)"
   ]
  },
  {
   "cell_type": "code",
   "execution_count": 3,
   "metadata": {},
   "outputs": [],
   "source": [
    "num_comp = 1000\n",
    "solver = 'mu'\n",
    "max_iter = 500\n",
    "tol = 1e-4"
   ]
  },
  {
   "cell_type": "code",
   "execution_count": 4,
   "metadata": {},
   "outputs": [
    {
     "name": "stderr",
     "output_type": "stream",
     "text": [
      "/Users/frankpolak/anaconda3/lib/python3.11/site-packages/sklearn/decomposition/_nmf.py:1710: ConvergenceWarning: Maximum number of iterations 500 reached. Increase it to improve convergence.\n",
      "  warnings.warn(\n"
     ]
    },
    {
     "name": "stdout",
     "output_type": "stream",
     "text": [
      "Normalised\n",
      "Components: 1000, MSE: 3.543353650628947e-05\n"
     ]
    }
   ],
   "source": [
    "nmf = NMF(n_components=num_comp, solver=solver, max_iter=max_iter, tol=tol, random_state=42)\n",
    "W = nmf.fit_transform(df_norm)\n",
    "H = nmf.components_\n",
    "reconstructed_matrix = np.dot(W, H)\n",
    "error = mean_squared_error(df_norm, reconstructed_matrix)\n",
    "print(\"Normalised\")\n",
    "print(f\"Components: {num_comp}, MSE: {error}\")"
   ]
  },
  {
   "cell_type": "code",
   "execution_count": 6,
   "metadata": {},
   "outputs": [],
   "source": [
    "np.save('hs.npy', H)\n"
   ]
  }
 ],
 "metadata": {
  "kernelspec": {
   "display_name": "Python 3.6 (tabula-muris-env)",
   "language": "python",
   "name": "tabula-muris-env"
  },
  "language_info": {
   "codemirror_mode": {
    "name": "ipython",
    "version": 3
   },
   "file_extension": ".py",
   "mimetype": "text/x-python",
   "name": "python",
   "nbconvert_exporter": "python",
   "pygments_lexer": "ipython3",
   "version": "3.11.5"
  }
 },
 "nbformat": 4,
 "nbformat_minor": 2
}
