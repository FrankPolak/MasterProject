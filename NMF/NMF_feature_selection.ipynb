{
 "cells": [
  {
   "cell_type": "code",
   "execution_count": 1,
   "metadata": {},
   "outputs": [],
   "source": [
    "import numpy as np\n",
    "import pandas as pd"
   ]
  },
  {
   "cell_type": "code",
   "execution_count": 2,
   "metadata": {},
   "outputs": [
    {
     "data": {
      "text/plain": [
       "(1000, 20501)"
      ]
     },
     "execution_count": 2,
     "metadata": {},
     "output_type": "execute_result"
    }
   ],
   "source": [
    "hs = np.load('hs.npy')\n",
    "hs.shape"
   ]
  },
  {
   "cell_type": "code",
   "execution_count": 3,
   "metadata": {},
   "outputs": [
    {
     "name": "stdout",
     "output_type": "stream",
     "text": [
      "List of top contributing features:\n",
      "[1, 8, 13, 44, 45, 47, 64, 104, 134, 139, 151, 156, 161, 190, 210, 213, 216, 225, 234, 237, 238, 247, 253, 254, 256, 258, 272, 293, 310, 313, 334, 351, 365, 370, 375, 377, 380, 393, 406, 416, 434, 437, 462, 487, 499, 554, 557, 561, 576, 578, 581, 582, 587, 588, 589, 612, 642, 645, 684, 686, 708, 717, 720, 731, 736, 737, 739, 757, 808, 812, ..., 20477]\n"
     ]
    }
   ],
   "source": [
    "import numpy as np\n",
    "import pandas as pd\n",
    "from sklearn.decomposition import NMF\n",
    "\n",
    "num_top_features = 2\n",
    "top_features = []\n",
    "\n",
    "for component in hs:\n",
    "    # Get indices of the top features for each component\n",
    "    top_indices = component.argsort()[-num_top_features:][::-1]\n",
    "    top_features.extend(top_indices)\n",
    "\n",
    "# Remove duplicates and convert to a sorted list\n",
    "top_features = sorted(set(top_features))\n",
    "\n",
    "print(\"List of top contributing features:\")\n",
    "print(top_features)\n",
    "\n"
   ]
  },
  {
   "cell_type": "code",
   "execution_count": 4,
   "metadata": {},
   "outputs": [
    {
     "data": {
      "text/plain": [
       "1953"
      ]
     },
     "execution_count": 4,
     "metadata": {},
     "output_type": "execute_result"
    }
   ],
   "source": [
    "len(top_features)"
   ]
  }
 ],
 "metadata": {
  "kernelspec": {
   "display_name": "Python 3.6 (tabula-muris-env)",
   "language": "python",
   "name": "tabula-muris-env"
  },
  "language_info": {
   "codemirror_mode": {
    "name": "ipython",
    "version": 3
   },
   "file_extension": ".py",
   "mimetype": "text/x-python",
   "name": "python",
   "nbconvert_exporter": "python",
   "pygments_lexer": "ipython3",
   "version": "3.11.5"
  }
 },
 "nbformat": 4,
 "nbformat_minor": 2
}
