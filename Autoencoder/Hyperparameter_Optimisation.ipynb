{
  "cells": [
    {
      "cell_type": "code",
      "execution_count": 20,
      "metadata": {
        "id": "b6C0T38GAuac"
      },
      "outputs": [
        {
          "ename": "ImportError",
          "evalue": "cannot import name 'AutoencoderV3' from 'build_model' (/Users/frankpolak/Desktop/MasterProject/model/build_model.py)",
          "output_type": "error",
          "traceback": [
            "\u001b[0;31m---------------------------------------------------------------------------\u001b[0m",
            "\u001b[0;31mImportError\u001b[0m                               Traceback (most recent call last)",
            "Cell \u001b[0;32mIn[20], line 8\u001b[0m\n\u001b[1;32m      5\u001b[0m \u001b[38;5;28;01mimport\u001b[39;00m \u001b[38;5;21;01mmatplotlib\u001b[39;00m\u001b[38;5;21;01m.\u001b[39;00m\u001b[38;5;21;01mpyplot\u001b[39;00m \u001b[38;5;28;01mas\u001b[39;00m \u001b[38;5;21;01mplt\u001b[39;00m\n\u001b[1;32m      7\u001b[0m \u001b[38;5;28;01mfrom\u001b[39;00m \u001b[38;5;21;01mutils\u001b[39;00m \u001b[38;5;28;01mimport\u001b[39;00m prepare_data\n\u001b[0;32m----> 8\u001b[0m \u001b[38;5;28;01mfrom\u001b[39;00m \u001b[38;5;21;01mbuild_model\u001b[39;00m \u001b[38;5;28;01mimport\u001b[39;00m AutoencoderV3\n\u001b[1;32m      9\u001b[0m \u001b[38;5;28;01mfrom\u001b[39;00m \u001b[38;5;21;01mtrain_model\u001b[39;00m \u001b[38;5;28;01mimport\u001b[39;00m train_autoencoder\n",
            "\u001b[0;31mImportError\u001b[0m: cannot import name 'AutoencoderV3' from 'build_model' (/Users/frankpolak/Desktop/MasterProject/model/build_model.py)"
          ]
        }
      ],
      "source": [
        "import numpy as np\n",
        "import pandas as pd\n",
        "import torch\n",
        "from torch import nn\n",
        "import matplotlib.pyplot as plt\n",
        "\n",
        "from utils import prepare_data\n",
        "from build_model import AutoencoderV3\n",
        "from train_model import train_autoencoder"
      ]
    },
    {
      "cell_type": "code",
      "execution_count": 6,
      "metadata": {
        "id": "YmnBvCyCA1qH"
      },
      "outputs": [
        {
          "data": {
            "text/plain": [
              "'cpu'"
            ]
          },
          "execution_count": 6,
          "metadata": {},
          "output_type": "execute_result"
        }
      ],
      "source": [
        "# device agnostic\n",
        "device = \"cuda\" if torch.cuda.is_available() else \"cpu\"\n",
        "device"
      ]
    },
    {
      "cell_type": "code",
      "execution_count": 7,
      "metadata": {
        "id": "ZKRrK7LrA3rM"
      },
      "outputs": [],
      "source": [
        "# Prepare the data\n",
        "DNA_meth_train = prepare_data(\"../Data/DNAMethylation_train.csv\")\n",
        "DNA_meth_test = prepare_data(\"../Data/DNAMethylation_test.csv\")\n",
        "RNA_seq_train = prepare_data(\"../Data/RNAseq_train.csv\")\n",
        "RNA_seq_test = prepare_data(\"../Data/RNAseq_test.csv\")\n",
        "\n",
        "# Merge\n",
        "X_train = pd.merge(DNA_meth_train, RNA_seq_train, left_index=True, right_index=True)\n",
        "X_test = pd.merge(DNA_meth_test, RNA_seq_test, left_index=True, right_index=True)\n",
        "\n",
        "# Convert to tensors and send to device\n",
        "X_train = torch.tensor(X_train.to_numpy(), dtype=torch.float32).to(device)\n",
        "X_test = torch.tensor(X_test.to_numpy(), dtype=torch.float32).to(device)"
      ]
    },
    {
      "cell_type": "code",
      "execution_count": null,
      "metadata": {},
      "outputs": [
        {
          "data": {
            "text/plain": [
              "(torch.Size([306, 4000]), torch.Size([205, 4000]))"
            ]
          },
          "execution_count": 9,
          "metadata": {},
          "output_type": "execute_result"
        }
      ],
      "source": [
        "# 1. Number of Epochs \n",
        "model_0 = AutoencoderV3(X_train.shape[1], 250)\n",
        "model_1 = AutoencoderV3(X_train.shape[1], 125)\n",
        "\n",
        "# Loss and optimizer\n",
        "loss_fn = nn.L1Loss()\n",
        "optimizer_0 = torch.optim.Adam(model_0.parameters(), lr=0.001)\n",
        "optimizer_1 = torch.optim.Adam(model_1.parameters(), lr=0.001)\n",
        "\n",
        "# Model training\n",
        "model_0, train_loss_0, test_loss_0 = train_autoencoder(model=model_0, loss_fn=loss_fn, optimizer=optimizer_0, epochs=1000, X_train=X_train, X_test=X_test, updates=True, updates_epochs=100)\n",
        "model_1, train_loss_1, test_loss_1 = train_autoencoder(model=model_1, loss_fn=loss_fn, optimizer=optimizer_1, epochs=1000, X_train=X_train, X_test=X_test, updates=True, updates_epochs=100)\n",
        "\n",
        "# Plot\n",
        "plt.plot(range(1000), torch.Tensor(train_loss_0).cpu(), color='blue', label=\"Training loss\")\n",
        "plt.plot(range(1000), torch.Tensor(test_loss_0).cpu(), color='red', label=\"Test loss\")\n",
        "plt.title(\"250 hidden units\")\n",
        "plt.legend()\n",
        "plt.show()\n",
        "\n",
        "plt.plot(range(1000), torch.Tensor(train_loss_1).cpu(), color='blue', label=\"Training loss\")\n",
        "plt.plot(range(1000), torch.Tensor(test_loss_1).cpu(), color='red', label=\"Test loss\")\n",
        "plt.title(\"125 hidden units\")\n",
        "plt.legend()\n",
        "plt.show()"
      ]
    },
    {
      "cell_type": "code",
      "execution_count": 17,
      "metadata": {},
      "outputs": [
        {
          "ename": "NameError",
          "evalue": "name 'train_autoencoder' is not defined",
          "output_type": "error",
          "traceback": [
            "\u001b[0;31m---------------------------------------------------------------------------\u001b[0m",
            "\u001b[0;31mNameError\u001b[0m                                 Traceback (most recent call last)",
            "Cell \u001b[0;32mIn[17], line 1\u001b[0m\n\u001b[0;32m----> 1\u001b[0m help(train_autoencoder)\n",
            "\u001b[0;31mNameError\u001b[0m: name 'train_autoencoder' is not defined"
          ]
        }
      ],
      "source": [
        "help(train_autoencoder)"
      ]
    }
  ],
  "metadata": {
    "colab": {
      "provenance": []
    },
    "kernelspec": {
      "display_name": "Python 3.6 (tabula-muris-env)",
      "language": "python",
      "name": "tabula-muris-env"
    },
    "language_info": {
      "codemirror_mode": {
        "name": "ipython",
        "version": 3
      },
      "file_extension": ".py",
      "mimetype": "text/x-python",
      "name": "python",
      "nbconvert_exporter": "python",
      "pygments_lexer": "ipython3",
      "version": "3.11.5"
    }
  },
  "nbformat": 4,
  "nbformat_minor": 0
}
